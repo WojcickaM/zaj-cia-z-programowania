{
  "nbformat": 4,
  "nbformat_minor": 0,
  "metadata": {
    "colab": {
      "provenance": []
    },
    "kernelspec": {
      "name": "python3",
      "display_name": "Python 3"
    },
    "language_info": {
      "name": "python"
    }
  },
  "cells": [
    {
      "cell_type": "code",
      "execution_count": null,
      "metadata": {
        "id": "-BeD29EZifZF"
      },
      "outputs": [],
      "source": [
        "Zad. 1"
      ]
    },
    {
      "cell_type": "code",
      "source": [
        "print(\"Uzupełnij formularz:\")\n",
        "imie = input(\"Jak masz na imię? \")\n",
        "if imie.isalpha() == True:\n",
        "  print(\"przejdź dalej\")\n",
        "else:\n",
        "  print(\"Błąd. Spróbuj ponownie\")\n",
        "nazwisko = input(\"Jak masz na nazwisko? \")\n",
        "if nazwisko.isalpha() == True:\n",
        "  print(\"przejdź dalej\")\n",
        "else:\n",
        "  print(\"Błąd. Spróbuj ponownie\")\n",
        "wiek = input (\"Ile masz lat? \")\n",
        "if wiek.isdigit() == True:\n",
        "  print(\"przejdź dalej\")\n",
        "  wiek_int = int(wiek)\n",
        "\n",
        "else:\n",
        "  print(\"Błąd. Spróbuj ponownie\")\n",
        "\n",
        "haslo = input(\"Podaj hasło: \")\n",
        "powtorz_haslo = input(\"Powtórz hasło: \")\n",
        "\n",
        "if (haslo==powtorz_haslo):\n",
        "    print(\"Przejdź do kolejnego kroku.\")\n",
        "else:\n",
        "    print(\"Błąd. Spróbuj ponownie\")\n",
        "\n",
        "numer_telefonu = input(\"Podaj numer telefonu: \")\n",
        "\n",
        "numer_telefonu = \"\".join(filter(str.isdigit, numer_telefonu))\n",
        "\n",
        "if len(numer_telefonu) == 9:\n",
        "    print(\"Przejdź delej\")\n",
        "else:\n",
        "    print(\"Błąd. Spróbuj ponownie\")\n",
        "\n",
        "\n",
        "\n",
        "print(\"Wprowadzone dane:\")\n",
        "print(\"Imię:\", imie)\n",
        "print(\"Nazwisko:\", nazwisko)\n",
        "print(\"Wiek:\", wiek)\n",
        "print(\"Hasło:\", haslo)\n",
        "print(\"Numer telefonu:\", numer_telefonu)"
      ],
      "metadata": {
        "colab": {
          "base_uri": "https://localhost:8080/"
        },
        "id": "YeOcwJPwh0Qt",
        "outputId": "c89b5076-979c-4796-b298-1cdcbcfcdb26"
      },
      "execution_count": null,
      "outputs": [
        {
          "output_type": "stream",
          "name": "stdout",
          "text": [
            "Uzupełnij formularz:\n",
            "Jak masz na imię? 1\n",
            "Błąd. Spróbuj ponownie\n",
            "Jak masz na nazwisko? 1\n",
            "Błąd. Spróbuj ponownie\n",
            "Ile masz lat? a\n",
            "Błąd. Spróbuj ponownie\n",
            "Podaj hasło: 11\n",
            "Powtórz hasło: 12\n",
            "Błąd. Spróbuj ponownie\n",
            "Podaj numer telefonu: 12345\n",
            "Błąd. Spróbuj ponownie\n",
            "Wprowadzone dane:\n",
            "Imię: 1\n",
            "Nazwisko: 1\n",
            "Wiek: a\n",
            "Hasło: 11\n",
            "Numer telefonu: 12345\n"
          ]
        }
      ]
    }
  ]
}