{
  "nbformat": 4,
  "nbformat_minor": 0,
  "metadata": {
    "colab": {
      "provenance": []
    },
    "kernelspec": {
      "name": "python3",
      "display_name": "Python 3"
    },
    "language_info": {
      "name": "python"
    }
  },
  "cells": [
    {
      "cell_type": "markdown",
      "source": [
        "Zad. 1"
      ],
      "metadata": {
        "id": "nVPgltKXLnVx"
      }
    },
    {
      "cell_type": "code",
      "source": [
        "n = int(input(\"Podaj liczbę rzędów: \"))"
      ],
      "metadata": {
        "colab": {
          "base_uri": "https://localhost:8080/"
        },
        "id": "yXqucDeALtIc",
        "outputId": "e9272fc0-0ce4-48e3-ca9a-8eb5e3388091"
      },
      "execution_count": 1,
      "outputs": [
        {
          "name": "stdout",
          "output_type": "stream",
          "text": [
            "Podaj liczbę rzędów: 9\n"
          ]
        }
      ]
    },
    {
      "cell_type": "code",
      "source": [
        "row_counter = (n)\n",
        "for i in range(1, n):\n",
        "  for j in range(1, i + 1):\n",
        "    print(j, end=\" \")\n",
        "  print()"
      ],
      "metadata": {
        "colab": {
          "base_uri": "https://localhost:8080/"
        },
        "id": "4_Yww3WiLxjw",
        "outputId": "23b05ddf-1374-4eb9-eeac-4d9100c76bad"
      },
      "execution_count": 2,
      "outputs": [
        {
          "output_type": "stream",
          "name": "stdout",
          "text": [
            "1 \n",
            "1 2 \n",
            "1 2 3 \n",
            "1 2 3 4 \n",
            "1 2 3 4 5 \n",
            "1 2 3 4 5 6 \n",
            "1 2 3 4 5 6 7 \n",
            "1 2 3 4 5 6 7 8 \n"
          ]
        }
      ]
    },
    {
      "cell_type": "markdown",
      "source": [
        "Zad. 2"
      ],
      "metadata": {
        "id": "VNAVAQNfxPtp"
      }
    },
    {
      "cell_type": "code",
      "source": [
        "n = 5\n",
        "\n",
        "for i in range(1, n+1):\n",
        "  print(\"*\" * i)\n",
        "for i in range(n-1, 0, -1):\n",
        "  print(\"*\" * i)"
      ],
      "metadata": {
        "colab": {
          "base_uri": "https://localhost:8080/"
        },
        "id": "2vpyAW6txSGh",
        "outputId": "ba3f88c9-ff58-4157-af8f-5df5f4498c79"
      },
      "execution_count": 7,
      "outputs": [
        {
          "output_type": "stream",
          "name": "stdout",
          "text": [
            "*\n",
            "**\n",
            "***\n",
            "****\n",
            "*****\n",
            "****\n",
            "***\n",
            "**\n",
            "*\n"
          ]
        }
      ]
    },
    {
      "cell_type": "markdown",
      "source": [
        "Zad. 3"
      ],
      "metadata": {
        "id": "jiOfgaiiL6kk"
      }
    },
    {
      "cell_type": "code",
      "source": [
        "lista_ciag = [6,2,7,1,12,56,99]"
      ],
      "metadata": {
        "id": "jYl1PxyFL8Bd"
      },
      "execution_count": 3,
      "outputs": []
    },
    {
      "cell_type": "markdown",
      "source": [
        "3a"
      ],
      "metadata": {
        "id": "SsbIrgDYMEhF"
      }
    },
    {
      "cell_type": "code",
      "source": [
        "(lista_ciag_string) = [str(liczba) if liczba >=10 and liczba <=99 else liczba for liczba in lista_ciag]\n",
        "print(lista_ciag_string)"
      ],
      "metadata": {
        "colab": {
          "base_uri": "https://localhost:8080/"
        },
        "id": "SWmu7j2YMG0H",
        "outputId": "1c1f302a-1cc3-43be-b1a3-551d8cbd2051"
      },
      "execution_count": 4,
      "outputs": [
        {
          "output_type": "stream",
          "name": "stdout",
          "text": [
            "[6, 2, 7, 1, '12', '56', '99']\n"
          ]
        }
      ]
    },
    {
      "cell_type": "markdown",
      "source": [
        "3b"
      ],
      "metadata": {
        "id": "lSlxuDLcMKQ_"
      }
    },
    {
      "cell_type": "code",
      "source": [
        "najmniejsza_wartosc = min(lista_ciag)\n",
        "print(najmniejsza_wartosc)"
      ],
      "metadata": {
        "colab": {
          "base_uri": "https://localhost:8080/"
        },
        "id": "PHnkLN4cMJvD",
        "outputId": "bd8869b4-d419-4594-87c8-28be42465df6"
      },
      "execution_count": 5,
      "outputs": [
        {
          "output_type": "stream",
          "name": "stdout",
          "text": [
            "1\n"
          ]
        }
      ]
    }
  ]
}