{
  "nbformat": 4,
  "nbformat_minor": 0,
  "metadata": {
    "colab": {
      "provenance": []
    },
    "kernelspec": {
      "name": "python3",
      "display_name": "Python 3"
    },
    "language_info": {
      "name": "python"
    }
  },
  "cells": [
    {
      "cell_type": "markdown",
      "source": [
        "Zadanie 1"
      ],
      "metadata": {
        "id": "D5a_9cbz2UgN"
      }
    },
    {
      "cell_type": "code",
      "execution_count": 2,
      "metadata": {
        "id": "WkT3Ngkjz3vL"
      },
      "outputs": [],
      "source": [
        "zdanie = (\"Uwielbiam zajęcia z programowania\")"
      ]
    },
    {
      "cell_type": "code",
      "source": [
        "print(zdanie[13:23])\n",
        "print(zdanie[-33:])\n",
        "print(zdanie[1::3])"
      ],
      "metadata": {
        "colab": {
          "base_uri": "https://localhost:8080/"
        },
        "id": "BdVGmqfk2JB2",
        "outputId": "c4723d87-5612-4e1f-e1db-a2ec9958c29c"
      },
      "execution_count": 5,
      "outputs": [
        {
          "output_type": "stream",
          "name": "stdout",
          "text": [
            "ęcia z pro\n",
            "Uwielbiam zajęcia z programowania\n",
            "wlazęa oawi\n"
          ]
        }
      ]
    },
    {
      "cell_type": "markdown",
      "source": [
        "Zadanie 2"
      ],
      "metadata": {
        "id": "vXbKtTJ84IbJ"
      }
    },
    {
      "cell_type": "code",
      "source": [
        "y = (\"Czarny to mój ulubiony kolor, niestety, kolor czarny bardzo szybko spiera się z moich ubrań\")"
      ],
      "metadata": {
        "id": "MCixCRLk4IJy"
      },
      "execution_count": 6,
      "outputs": []
    },
    {
      "cell_type": "code",
      "source": [
        "print(y.istitle())"
      ],
      "metadata": {
        "colab": {
          "base_uri": "https://localhost:8080/"
        },
        "id": "3RukFlWQ4fLN",
        "outputId": "fc8081d4-0fa1-4681-e4e0-e11f10dab71e"
      },
      "execution_count": 8,
      "outputs": [
        {
          "output_type": "stream",
          "name": "stdout",
          "text": [
            "False\n"
          ]
        }
      ]
    },
    {
      "cell_type": "code",
      "source": [
        "print(y.startswith(\"C\"))"
      ],
      "metadata": {
        "colab": {
          "base_uri": "https://localhost:8080/"
        },
        "id": "rDEdN58l5A-e",
        "outputId": "a9ad5735-5130-4189-b2b1-ba9e0a4610df"
      },
      "execution_count": 9,
      "outputs": [
        {
          "output_type": "stream",
          "name": "stdout",
          "text": [
            "True\n"
          ]
        }
      ]
    },
    {
      "cell_type": "code",
      "source": [
        "x = y.lower()\n",
        "z = x.replace(\"czarny\", \"biały\")\n",
        "z.capitalize()"
      ],
      "metadata": {
        "colab": {
          "base_uri": "https://localhost:8080/",
          "height": 34
        },
        "id": "uNVuB2lWs8WI",
        "outputId": "275c02bf-abaf-4bd6-a955-c18abab3ac6a"
      },
      "execution_count": 12,
      "outputs": [
        {
          "output_type": "execute_result",
          "data": {
            "text/plain": [
              "'Biały to mój ulubiony kolor, niestety, kolor biały bardzo szybko spiera się z moich ubrań'"
            ],
            "application/vnd.google.colaboratory.intrinsic+json": {
              "type": "string"
            }
          },
          "metadata": {},
          "execution_count": 12
        }
      ]
    }
  ]
}